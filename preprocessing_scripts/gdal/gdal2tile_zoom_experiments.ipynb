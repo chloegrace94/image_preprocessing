{
 "cells": [
  {
   "cell_type": "code",
   "execution_count": 2,
   "id": "097d907b",
   "metadata": {},
   "outputs": [],
   "source": [
    "import gdal2tiles\n",
    "from pathlib import Path, PurePath\n",
    "# import rasterio\n",
    "# from rasterio import plot\n",
    "\n",
    "import matplotlib.pyplot as plt\n",
    "from PIL import Image"
   ]
  },
  {
   "cell_type": "code",
   "execution_count": 25,
   "id": "9bdb65a4",
   "metadata": {},
   "outputs": [
    {
     "name": "stdout",
     "output_type": "stream",
     "text": [
      "Generating Base Tiles:\n",
      "0...10...20...30...40...50...60...70...80...90...100\n"
     ]
    }
   ],
   "source": [
    "source_path = \"../../experiment_data/st5673_rgb_250_07.tif\"\n",
    "\n",
    "\n",
    "destination_path = \"../../experiment_outputs/gdal2tile_zoom/no_zoom/\"\n",
    "gdal2tiles.generate_tiles(source_path, destination_path,**options)\n",
    "\n",
    "# --tilesize=250\n",
    "# options = {\"webviewer\": 'WEBVIEWER'}"
   ]
  },
  {
   "cell_type": "code",
   "execution_count": 19,
   "id": "5911307d",
   "metadata": {},
   "outputs": [
    {
     "name": "stdout",
     "output_type": "stream",
     "text": [
      "Generating Base Tiles:\n",
      "0...10...20...30...40...50...60...70...80...90...100\n",
      "Generating Base Tiles:\n",
      "0...10...20...30...40...50...60...70...80...90...100\n",
      "Generating Base Tiles:\n",
      "0...10...20...30...40...50...60...70...80...90...100\n"
     ]
    }
   ],
   "source": [
    "source_path = \"../../experiment_data/st5673_rgb_250_07.tif\"\n",
    "\n",
    "zoom_list = (1,5,10)\n",
    "\n",
    "for zoom in zoom_list:\n",
    "    options = {'zoom': zoom}\n",
    "    destination_path = \"../../experiment_outputs/gdal2tile_zoom/\" + str(zoom) + \"/\"\n",
    "    gdal2tiles.generate_tiles(source_path, destination_path,**options)\n",
    "\n",
    "# --tilesize=250\n",
    "# options = {\"webviewer\": 'WEBVIEWER'}"
   ]
  },
  {
   "cell_type": "code",
   "execution_count": 20,
   "id": "406f38ee",
   "metadata": {},
   "outputs": [],
   "source": [
    "# raster_images_vrt = rasterio.open(images_vrt)\n",
    "\n",
    "# fig, (ax_img, ax_label) = plt.subplots(2,1, figsize=(15,15))\n",
    "\n",
    "# rasterio.plot.show(raster_images_vrt, title=\"Images\", ax=ax_img)\n",
    "# ax_img.axis('off')\n",
    "\n",
    "# raster_images_vrt.close()"
   ]
  },
  {
   "cell_type": "code",
   "execution_count": 26,
   "id": "9f298e26",
   "metadata": {},
   "outputs": [
    {
     "data": {
      "image/png": "[encoded data removed]",
      "text/plain": [
       "<Figure size 432x288 with 1 Axes>"
      ]
     },
     "metadata": {
      "needs_background": "light"
     },
     "output_type": "display_data"
    }
   ],
   "source": [
    "raster_file = \"../../experiment_outputs/gdal2tile_zoom/no_zoom/10/504/683.png\"\n",
    "image = Image.open(raster_file)\n",
    "plt.imshow(image)\n",
    "plt.show()"
   ]
  },
  {
   "cell_type": "code",
   "execution_count": null,
   "id": "b6894acf",
   "metadata": {},
   "outputs": [],
   "source": []
  },
  {
   "cell_type": "code",
   "execution_count": 22,
   "id": "b935da77",
   "metadata": {},
   "outputs": [
    {
     "name": "stderr",
     "output_type": "stream",
     "text": [
      "/home/ot19968/anaconda3/envs/gdal/lib/python3.6/site-packages/ipykernel_launcher.py:11: MatplotlibDeprecationWarning: Passing non-integers as three-element position specification is deprecated since 3.3 and will be removed two minor releases later.\n",
      "  # This is added back by InteractiveShellApp.init_path()\n"
     ]
    },
    {
     "data": {
      "image/png": "[encoded data removed]",
      "text/plain": [
       "<Figure size 864x432 with 1 Axes>"
      ]
     },
     "metadata": {
      "needs_background": "light"
     },
     "output_type": "display_data"
    }
   ],
   "source": [
    "# 1\n",
    "dir_rasters = \"../../experiment_outputs/gdal2tile_zoom/1/1/0/\"\n",
    "rasters = list(Path(dir_rasters).iterdir())\n",
    "\n",
    "# Visualisation des images\n",
    "figure= plt.figure(figsize=(12,6))    \n",
    "columns = 5\n",
    "\n",
    "for i, raster_file in enumerate(rasters):\n",
    "    image = Image.open(raster_file)\n",
    "    plt.subplot(len(rasters) / columns + 1, columns, i + 1)\n",
    "    plt.imshow(image)\n",
    "    plt.axis('off')\n"
   ]
  },
  {
   "cell_type": "code",
   "execution_count": 23,
   "id": "a753a287",
   "metadata": {},
   "outputs": [
    {
     "name": "stderr",
     "output_type": "stream",
     "text": [
      "/home/ot19968/anaconda3/envs/gdal/lib/python3.6/site-packages/ipykernel_launcher.py:11: MatplotlibDeprecationWarning: Passing non-integers as three-element position specification is deprecated since 3.3 and will be removed two minor releases later.\n",
      "  # This is added back by InteractiveShellApp.init_path()\n"
     ]
    },
    {
     "data": {
      "image/png": "[encoded data removed]",
      "text/plain": [
       "<Figure size 864x432 with 1 Axes>"
      ]
     },
     "metadata": {
      "needs_background": "light"
     },
     "output_type": "display_data"
    }
   ],
   "source": [
    "# 1\n",
    "dir_rasters = \"../../experiment_outputs/gdal2tile_zoom/5/5/15\"\n",
    "rasters = list(Path(dir_rasters).iterdir())\n",
    "\n",
    "# Visualisation des images\n",
    "figure= plt.figure(figsize=(12,6))    \n",
    "columns = 5\n",
    "\n",
    "for i, raster_file in enumerate(rasters):\n",
    "    image = Image.open(raster_file)\n",
    "    plt.subplot(len(rasters) / columns + 1, columns, i + 1)\n",
    "    plt.imshow(image)\n",
    "    plt.axis('off')\n"
   ]
  },
  {
   "cell_type": "code",
   "execution_count": null,
   "id": "61d67988",
   "metadata": {},
   "outputs": [],
   "source": []
  }
 ],
 "metadata": {
  "kernelspec": {
   "display_name": "Python 3",
   "language": "python",
   "name": "python3"
  },
  "language_info": {
   "codemirror_mode": {
    "name": "ipython",
    "version": 3
   },
   "file_extension": ".py",
   "mimetype": "text/x-python",
   "name": "python",
   "nbconvert_exporter": "python",
   "pygments_lexer": "ipython3",
   "version": "3.6.13"
  }
 },
 "nbformat": 4,
 "nbformat_minor": 5
}
